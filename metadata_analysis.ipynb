{
 "cells": [
  {
   "cell_type": "code",
   "execution_count": 1,
   "metadata": {},
   "outputs": [],
   "source": [
    "import pandas as pd\n",
    "import matplotlib.pyplot as plt\n",
    "import seaborn as sns\n",
    "%matplotlib inline\n",
    "plt.style.use([\"dark_background\"])"
   ]
  },
  {
   "cell_type": "code",
   "execution_count": 2,
   "metadata": {},
   "outputs": [
    {
     "data": {
      "text/html": [
       "<div>\n",
       "<style scoped>\n",
       "    .dataframe tbody tr th:only-of-type {\n",
       "        vertical-align: middle;\n",
       "    }\n",
       "\n",
       "    .dataframe tbody tr th {\n",
       "        vertical-align: top;\n",
       "    }\n",
       "\n",
       "    .dataframe thead th {\n",
       "        text-align: right;\n",
       "    }\n",
       "</style>\n",
       "<table border=\"1\" class=\"dataframe\">\n",
       "  <thead>\n",
       "    <tr style=\"text-align: right;\">\n",
       "      <th></th>\n",
       "      <th>img_path</th>\n",
       "      <th>label</th>\n",
       "      <th>set</th>\n",
       "    </tr>\n",
       "  </thead>\n",
       "  <tbody>\n",
       "    <tr>\n",
       "      <th>0</th>\n",
       "      <td>/Users/alejandrosanchezaristizabal/Desktop/ima...</td>\n",
       "      <td>1</td>\n",
       "      <td>train</td>\n",
       "    </tr>\n",
       "    <tr>\n",
       "      <th>1</th>\n",
       "      <td>/Users/alejandrosanchezaristizabal/Desktop/ima...</td>\n",
       "      <td>1</td>\n",
       "      <td>train</td>\n",
       "    </tr>\n",
       "    <tr>\n",
       "      <th>2</th>\n",
       "      <td>/Users/alejandrosanchezaristizabal/Desktop/ima...</td>\n",
       "      <td>1</td>\n",
       "      <td>train</td>\n",
       "    </tr>\n",
       "    <tr>\n",
       "      <th>3</th>\n",
       "      <td>/Users/alejandrosanchezaristizabal/Desktop/ima...</td>\n",
       "      <td>1</td>\n",
       "      <td>train</td>\n",
       "    </tr>\n",
       "    <tr>\n",
       "      <th>4</th>\n",
       "      <td>/Users/alejandrosanchezaristizabal/Desktop/ima...</td>\n",
       "      <td>1</td>\n",
       "      <td>train</td>\n",
       "    </tr>\n",
       "  </tbody>\n",
       "</table>\n",
       "</div>"
      ],
      "text/plain": [
       "                                            img_path  label    set\n",
       "0  /Users/alejandrosanchezaristizabal/Desktop/ima...      1  train\n",
       "1  /Users/alejandrosanchezaristizabal/Desktop/ima...      1  train\n",
       "2  /Users/alejandrosanchezaristizabal/Desktop/ima...      1  train\n",
       "3  /Users/alejandrosanchezaristizabal/Desktop/ima...      1  train\n",
       "4  /Users/alejandrosanchezaristizabal/Desktop/ima...      1  train"
      ]
     },
     "execution_count": 2,
     "metadata": {},
     "output_type": "execute_result"
    }
   ],
   "source": [
    "# Load the metadata.csv file.\n",
    "metadata = pd.read_csv(\"/Users/alejandrosanchezaristizabal/Desktop/metadata.csv\")\n",
    "metadata.head()"
   ]
  },
  {
   "cell_type": "code",
   "execution_count": 3,
   "metadata": {},
   "outputs": [
    {
     "name": "stdout",
     "output_type": "stream",
     "text": [
      "The metadata_one_per_label.csv file was successfully generated.\n"
     ]
    }
   ],
   "source": [
    "def create_metadata_one_row_per_label(metadata, path):\n",
    "    \"\"\"Create a metadata.csv file with one row per label.\"\"\"\n",
    "    metadata_one_per_label = pd.DataFrame()\n",
    "    for label in metadata[\"label\"].unique():\n",
    "        label_row = metadata[metadata[\"label\"] == label].head(1)\n",
    "        metadata_one_per_label = pd.concat([metadata_one_per_label, label_row])\n",
    "    metadata_one_per_label.to_csv(path, index=False)\n",
    "    print(\"The metadata_one_per_label.csv file was successfully generated.\")\n",
    "\n",
    "METADATA = metadata\n",
    "PATH = \"/Users/alejandrosanchezaristizabal/Desktop/metadata_one_per_label.csv\"\n",
    "create_metadata_one_row_per_label(METADATA, PATH)"
   ]
  },
  {
   "cell_type": "code",
   "execution_count": 4,
   "metadata": {},
   "outputs": [
    {
     "data": {
      "text/plain": [
       "Text(0.5, 1.0, 'Number of samples per label in the train set')"
      ]
     },
     "execution_count": 4,
     "metadata": {},
     "output_type": "execute_result"
    },
    {
     "data": {
      "image/png": "[encoded data removed]",
      "text/plain": [
       "<Figure size 504x360 with 1 Axes>"
      ]
     },
     "metadata": {
      "needs_background": "dark"
     },
     "output_type": "display_data"
    }
   ],
   "source": [
    "# Plot the number of samples per label in the train set.\n",
    "figure = plt.figure(figsize=(7, 5))\n",
    "sns.countplot(x=\"label\", data=metadata[metadata[\"set\"] == \"train\"])\n",
    "plt.title(\"Number of samples per label in the train set\")"
   ]
  },
  {
   "cell_type": "code",
   "execution_count": null,
   "metadata": {},
   "outputs": [],
   "source": []
  }
 ],
 "metadata": {
  "kernelspec": {
   "display_name": "Python 3",
   "language": "python",
   "name": "python3"
  },
  "language_info": {
   "codemirror_mode": {
    "name": "ipython",
    "version": 3
   },
   "file_extension": ".py",
   "mimetype": "text/x-python",
   "name": "python",
   "nbconvert_exporter": "python",
   "pygments_lexer": "ipython3",
   "version": "3.7.1"
  }
 },
 "nbformat": 4,
 "nbformat_minor": 1
}
