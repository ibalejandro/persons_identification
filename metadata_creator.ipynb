{
 "cells": [
  {
   "cell_type": "code",
   "execution_count": 76,
   "metadata": {},
   "outputs": [],
   "source": [
    "import xmltodict\n",
    "import cv2\n",
    "import os\n",
    "import zipfile\n",
    "import shutil"
   ]
  },
  {
   "cell_type": "code",
   "execution_count": 80,
   "metadata": {},
   "outputs": [
    {
     "name": "stdout",
     "output_type": "stream",
     "text": [
      "/Users/alejandrosanchezaristizabal/Desktop/annotations_2\n"
     ]
    }
   ],
   "source": [
    "def extract_annotations(path_to_zip_file):\n",
    "    \"\"\"Extract the zip file on the given path to a directory under the same name.\"\"\"\n",
    "    path_to_zip_file_list = path_to_zip_file.split('/')\n",
    "    path_to_zip_len = len(path_to_zip_file_list)\n",
    "    path_to_extracted_file = '/' + os.path.join(*path_to_zip_file_list[:path_to_zip_len - 1])\n",
    "    destination_dir_name = path_to_zip_file_list[path_to_zip_len - 1].split('.')[0]\n",
    "    zip_ref = zipfile.ZipFile(path_to_zip_file, 'r')\n",
    "    zip_ref.extractall(path_to_extracted_file)\n",
    "    zip_ref.close()\n",
    "    # Remove an unnecessary automatically created directory.\n",
    "    shutil.rmtree(os.path.join(path_to_extracted_file, \"__MACOSX\"))\n",
    "    return os.path.join(path_to_extracted_file, destination_dir_name)\n",
    "\n",
    "PATH_TO_ZIP_FILE = \"/Users/alejandrosanchezaristizabal/Desktop/annotations_2.zip\"\n",
    "annotations_path = extract_annotations(PATH_TO_ZIP_FILE)\n",
    "print(annotations_path)"
   ]
  },
  {
   "cell_type": "code",
   "execution_count": 102,
   "metadata": {},
   "outputs": [
    {
     "name": "stdout",
     "output_type": "stream",
     "text": [
      "/Users/alejandrosanchezaristizabal/Desktop/images\n"
     ]
    }
   ],
   "source": [
    "def get_images_path(annotations_path):\n",
    "    \"\"\"\"Get the path to the image files.\"\"\"\n",
    "    path_to_annotations_list = annotations_path.split('/')\n",
    "    path_to_annotations_len = len(path_to_annotations_list)\n",
    "    path_to_images = '/' + os.path.join(*path_to_annotations_list[:path_to_annotations_len - 1])\n",
    "    return os.path.join(path_to_images, \"images\")\n",
    "\n",
    "ANNOTATIONS_PATH = annotations_path\n",
    "images_path = get_images_path(ANNOTATIONS_PATH)"
   ]
  },
  {
   "cell_type": "code",
   "execution_count": 103,
   "metadata": {},
   "outputs": [
    {
     "name": "stdout",
     "output_type": "stream",
     "text": [
      "['/Users/alejandrosanchezaristizabal/Desktop/annotations_2/1/12.xml', '/Users/alejandrosanchezaristizabal/Desktop/annotations_2/1/13.xml', '/Users/alejandrosanchezaristizabal/Desktop/annotations_2/1/10.xml', '/Users/alejandrosanchezaristizabal/Desktop/annotations_2/1/4.xml', '/Users/alejandrosanchezaristizabal/Desktop/annotations_2/1/5.xml', '/Users/alejandrosanchezaristizabal/Desktop/annotations_2/1/7.xml', '/Users/alejandrosanchezaristizabal/Desktop/annotations_2/1/2.xml', '/Users/alejandrosanchezaristizabal/Desktop/annotations_2/1/3.xml', '/Users/alejandrosanchezaristizabal/Desktop/annotations_2/1/1.xml', '/Users/alejandrosanchezaristizabal/Desktop/annotations_2/1/0.xml', '/Users/alejandrosanchezaristizabal/Desktop/annotations_2/4/14.xml', '/Users/alejandrosanchezaristizabal/Desktop/annotations_2/4/15.xml', '/Users/alejandrosanchezaristizabal/Desktop/annotations_2/4/17.xml', '/Users/alejandrosanchezaristizabal/Desktop/annotations_2/4/16.xml', '/Users/alejandrosanchezaristizabal/Desktop/annotations_2/4/11.xml', '/Users/alejandrosanchezaristizabal/Desktop/annotations_2/4/10.xml', '/Users/alejandrosanchezaristizabal/Desktop/annotations_2/4/18.xml', '/Users/alejandrosanchezaristizabal/Desktop/annotations_2/4/2.xml', '/Users/alejandrosanchezaristizabal/Desktop/annotations_2/4/1.xml', '/Users/alejandrosanchezaristizabal/Desktop/annotations_2/4/0.xml', '/Users/alejandrosanchezaristizabal/Desktop/annotations_2/3/8.xml', '/Users/alejandrosanchezaristizabal/Desktop/annotations_2/3/9.xml', '/Users/alejandrosanchezaristizabal/Desktop/annotations_2/3/IMG-20190419-WA0118.xml', '/Users/alejandrosanchezaristizabal/Desktop/annotations_2/3/10.xml', '/Users/alejandrosanchezaristizabal/Desktop/annotations_2/3/4.xml', '/Users/alejandrosanchezaristizabal/Desktop/annotations_2/3/5.xml', '/Users/alejandrosanchezaristizabal/Desktop/annotations_2/3/7.xml', '/Users/alejandrosanchezaristizabal/Desktop/annotations_2/3/6.xml', '/Users/alejandrosanchezaristizabal/Desktop/annotations_2/3/3.xml', '/Users/alejandrosanchezaristizabal/Desktop/annotations_2/3/1.xml', '/Users/alejandrosanchezaristizabal/Desktop/annotations_2/2/14.xml', '/Users/alejandrosanchezaristizabal/Desktop/annotations_2/2/15.xml', '/Users/alejandrosanchezaristizabal/Desktop/annotations_2/2/12.xml', '/Users/alejandrosanchezaristizabal/Desktop/annotations_2/2/13.xml', '/Users/alejandrosanchezaristizabal/Desktop/annotations_2/2/11.xml', '/Users/alejandrosanchezaristizabal/Desktop/annotations_2/2/10.xml', '/Users/alejandrosanchezaristizabal/Desktop/annotations_2/2/2.xml', '/Users/alejandrosanchezaristizabal/Desktop/annotations_2/2/3.xml', '/Users/alejandrosanchezaristizabal/Desktop/annotations_2/2/1.xml', '/Users/alejandrosanchezaristizabal/Desktop/annotations_2/2/0.xml']\n"
     ]
    }
   ],
   "source": [
    "def get_annotation_file_paths(annotation_path):\n",
    "    \"\"\"Get a list with the XML file paths.\"\"\"\n",
    "    xml_file_paths = list()\n",
    "    for subdir, dirs, files in os.walk(annotations_path):\n",
    "        for file in files:\n",
    "            file_path = os.path.join(subdir, file)\n",
    "            if file_path.endswith(\".xml\"):\n",
    "                xml_file_paths.append(file_path)\n",
    "    return xml_file_paths\n",
    "\n",
    "xml_file_paths = get_annotation_file_paths(ANNOTATIONS_PATH)\n",
    "print(xml_file_paths)"
   ]
  },
  {
   "cell_type": "code",
   "execution_count": 105,
   "metadata": {},
   "outputs": [],
   "source": [
    "def get_info_from_object_item(object_item, info):\n",
    "    \"\"\"Updates the given dictionary using the values of the given object item.\"\"\"\n",
    "    label = object_item[\"name\"]\n",
    "    bnd_box = object_item[\"bndbox\"]\n",
    "    x_min = int(bnd_box[\"xmin\"])\n",
    "    y_min = int(bnd_box[\"ymin\"])\n",
    "    x_max = int(bnd_box[\"xmax\"])\n",
    "    y_max = int(bnd_box[\"ymax\"])\n",
    "    info[\"label\"] = label\n",
    "    info[\"xmin\"] = x_min\n",
    "    info[\"ymin\"] = y_min\n",
    "    info[\"xmax\"] = x_max\n",
    "    info[\"ymax\"] = y_max\n",
    "    return info\n",
    "\n",
    "def parse_xml(document):\n",
    "    \"\"\"Parse the given document in order to extract the relevant values.\"\"\"\n",
    "    folder = document[\"annotation\"][\"folder\"]\n",
    "    filename = document[\"annotation\"][\"filename\"]\n",
    "    infos = list()\n",
    "    object_items = document[\"annotation\"][\"object\"]\n",
    "    if isinstance(object_items, list):\n",
    "        for object_item in object_items:\n",
    "            info = dict()\n",
    "            info[\"folder\"] = folder\n",
    "            info[\"filename\"] = filename\n",
    "            info = get_info_from_object_item(object_item, info)\n",
    "            infos.append(info)\n",
    "    else:\n",
    "        info = dict()\n",
    "        info[\"folder\"] = folder\n",
    "        info[\"filename\"] = filename\n",
    "        info = get_info_from_object_item(object_items, info)\n",
    "        infos.append(info)\n",
    "    return infos\n",
    "\n",
    "def get_info_from_xml_files(xml_file_paths):\n",
    "    \"\"\"Get the labelling information within each XML file.\"\"\"\n",
    "    info_from_xml_files = list()\n",
    "    for xml_file_path in xml_file_paths:\n",
    "        with open(xml_file_path) as fd:\n",
    "            document = xmltodict.parse(fd.read())\n",
    "            for info in parse_xml(document):\n",
    "                info_from_xml_files.append(info)\n",
    "    return info_from_xml_files\n",
    "\n",
    "XML_FILE_PATHS = xml_file_paths\n",
    "info_from_xml_files = get_info_from_xml_files(XML_FILE_PATHS)"
   ]
  },
  {
   "cell_type": "code",
   "execution_count": 106,
   "metadata": {},
   "outputs": [],
   "source": [
    "# TODO.\n",
    "# Function for cropping image and returning it and the corresponding label.\n",
    "# Function for generating a unique name to the cropped image and assigning it to \n",
    "# train/valid/test sets and returning the image, label, name and set.\n",
    "# Function for saving the image and appending a new row to the metadata file."
   ]
  },
  {
   "cell_type": "code",
   "execution_count": null,
   "metadata": {},
   "outputs": [],
   "source": []
  }
 ],
 "metadata": {
  "kernelspec": {
   "display_name": "Python 3",
   "language": "python",
   "name": "python3"
  }
 },
 "nbformat": 4,
 "nbformat_minor": 1
}
