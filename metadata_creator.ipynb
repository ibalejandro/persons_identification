{
 "cells": [
  {
   "cell_type": "code",
   "execution_count": 38,
   "metadata": {},
   "outputs": [],
   "source": [
    "import xmltodict\n",
    "import cv2\n",
    "import os\n",
    "import zipfile\n",
    "import shutil\n",
    "import sys\n",
    "import random\n",
    "import csv"
   ]
  },
  {
   "cell_type": "code",
   "execution_count": 9,
   "metadata": {},
   "outputs": [
    {
     "name": "stdout",
     "output_type": "stream",
     "text": [
      "/Users/alejandrosanchezaristizabal/Desktop/annotations_2\n"
     ]
    }
   ],
   "source": [
    "def extract_directory(path_to_zip_file):\n",
    "    \"\"\"Extract the zip file on the given path to a directory under the same name.\"\"\"\n",
    "    path_to_zip_file_list = path_to_zip_file.split('/')\n",
    "    path_to_zip_len = len(path_to_zip_file_list)\n",
    "    path_to_extracted_file = '/' + os.path.join(*path_to_zip_file_list[:path_to_zip_len - 1])\n",
    "    destination_dir_name = path_to_zip_file_list[path_to_zip_len - 1].split('.')[0]\n",
    "    zip_ref = zipfile.ZipFile(path_to_zip_file, 'r')\n",
    "    zip_ref.extractall(path_to_extracted_file)\n",
    "    zip_ref.close()\n",
    "    # Remove an unnecessary automatically created directory.\n",
    "    shutil.rmtree(os.path.join(path_to_extracted_file, \"__MACOSX\"))\n",
    "    return os.path.join(path_to_extracted_file, destination_dir_name)\n",
    "\n",
    "PATH_TO_ZIP_FILE = \"/Users/alejandrosanchezaristizabal/Desktop/annotations_2.zip\"\n",
    "annotations_path = extract_directory(PATH_TO_ZIP_FILE)\n",
    "print(annotations_path)"
   ]
  },
  {
   "cell_type": "code",
   "execution_count": 10,
   "metadata": {},
   "outputs": [
    {
     "name": "stdout",
     "output_type": "stream",
     "text": [
      "/Users/alejandrosanchezaristizabal/Desktop/images_2\n"
     ]
    }
   ],
   "source": [
    "PATH_TO_IMG_ZIP_FILE = \"/Users/alejandrosanchezaristizabal/Desktop/images_2.zip\"\n",
    "images_path = extract_directory(PATH_TO_IMG_ZIP_FILE)\n",
    "print(images_path)"
   ]
  },
  {
   "cell_type": "code",
   "execution_count": 11,
   "metadata": {},
   "outputs": [
    {
     "name": "stdout",
     "output_type": "stream",
     "text": [
      "['/Users/alejandrosanchezaristizabal/Desktop/annotations_2/1/12.xml', '/Users/alejandrosanchezaristizabal/Desktop/annotations_2/1/13.xml', '/Users/alejandrosanchezaristizabal/Desktop/annotations_2/1/10.xml', '/Users/alejandrosanchezaristizabal/Desktop/annotations_2/1/4.xml', '/Users/alejandrosanchezaristizabal/Desktop/annotations_2/1/5.xml', '/Users/alejandrosanchezaristizabal/Desktop/annotations_2/1/7.xml', '/Users/alejandrosanchezaristizabal/Desktop/annotations_2/1/2.xml', '/Users/alejandrosanchezaristizabal/Desktop/annotations_2/1/3.xml', '/Users/alejandrosanchezaristizabal/Desktop/annotations_2/1/1.xml', '/Users/alejandrosanchezaristizabal/Desktop/annotations_2/1/0.xml', '/Users/alejandrosanchezaristizabal/Desktop/annotations_2/4/14.xml', '/Users/alejandrosanchezaristizabal/Desktop/annotations_2/4/15.xml', '/Users/alejandrosanchezaristizabal/Desktop/annotations_2/4/17.xml', '/Users/alejandrosanchezaristizabal/Desktop/annotations_2/4/16.xml', '/Users/alejandrosanchezaristizabal/Desktop/annotations_2/4/11.xml', '/Users/alejandrosanchezaristizabal/Desktop/annotations_2/4/10.xml', '/Users/alejandrosanchezaristizabal/Desktop/annotations_2/4/18.xml', '/Users/alejandrosanchezaristizabal/Desktop/annotations_2/4/2.xml', '/Users/alejandrosanchezaristizabal/Desktop/annotations_2/4/1.xml', '/Users/alejandrosanchezaristizabal/Desktop/annotations_2/4/0.xml', '/Users/alejandrosanchezaristizabal/Desktop/annotations_2/3/8.xml', '/Users/alejandrosanchezaristizabal/Desktop/annotations_2/3/9.xml', '/Users/alejandrosanchezaristizabal/Desktop/annotations_2/3/IMG-20190419-WA0118.xml', '/Users/alejandrosanchezaristizabal/Desktop/annotations_2/3/10.xml', '/Users/alejandrosanchezaristizabal/Desktop/annotations_2/3/4.xml', '/Users/alejandrosanchezaristizabal/Desktop/annotations_2/3/5.xml', '/Users/alejandrosanchezaristizabal/Desktop/annotations_2/3/7.xml', '/Users/alejandrosanchezaristizabal/Desktop/annotations_2/3/6.xml', '/Users/alejandrosanchezaristizabal/Desktop/annotations_2/3/3.xml', '/Users/alejandrosanchezaristizabal/Desktop/annotations_2/3/1.xml', '/Users/alejandrosanchezaristizabal/Desktop/annotations_2/2/14.xml', '/Users/alejandrosanchezaristizabal/Desktop/annotations_2/2/15.xml', '/Users/alejandrosanchezaristizabal/Desktop/annotations_2/2/12.xml', '/Users/alejandrosanchezaristizabal/Desktop/annotations_2/2/13.xml', '/Users/alejandrosanchezaristizabal/Desktop/annotations_2/2/11.xml', '/Users/alejandrosanchezaristizabal/Desktop/annotations_2/2/10.xml', '/Users/alejandrosanchezaristizabal/Desktop/annotations_2/2/2.xml', '/Users/alejandrosanchezaristizabal/Desktop/annotations_2/2/3.xml', '/Users/alejandrosanchezaristizabal/Desktop/annotations_2/2/1.xml', '/Users/alejandrosanchezaristizabal/Desktop/annotations_2/2/0.xml']\n"
     ]
    }
   ],
   "source": [
    "def get_annotation_file_paths(annotation_path):\n",
    "    \"\"\"Get a list with the XML file paths.\"\"\"\n",
    "    xml_file_paths = list()\n",
    "    for subdir, dirs, files in os.walk(annotations_path):\n",
    "        for file in files:\n",
    "            file_path = os.path.join(subdir, file)\n",
    "            if file_path.endswith(\".xml\"):\n",
    "                xml_file_paths.append(file_path)\n",
    "    return xml_file_paths\n",
    "\n",
    "xml_file_paths = get_annotation_file_paths(ANNOTATIONS_PATH)\n",
    "print(xml_file_paths)"
   ]
  },
  {
   "cell_type": "code",
   "execution_count": 12,
   "metadata": {},
   "outputs": [],
   "source": [
    "def get_info_from_object_item(object_item, info):\n",
    "    \"\"\"Updates the given dictionary using the values of the given object item.\"\"\"\n",
    "    label = object_item[\"name\"]\n",
    "    bnd_box = object_item[\"bndbox\"]\n",
    "    x_min = int(bnd_box[\"xmin\"])\n",
    "    y_min = int(bnd_box[\"ymin\"])\n",
    "    x_max = int(bnd_box[\"xmax\"])\n",
    "    y_max = int(bnd_box[\"ymax\"])\n",
    "    info[\"label\"] = label\n",
    "    info[\"xmin\"] = x_min\n",
    "    info[\"ymin\"] = y_min\n",
    "    info[\"xmax\"] = x_max\n",
    "    info[\"ymax\"] = y_max\n",
    "    return info\n",
    "\n",
    "def parse_xml(document):\n",
    "    \"\"\"Parse the given document in order to extract the relevant values.\"\"\"\n",
    "    folder = document[\"annotation\"][\"folder\"]\n",
    "    filename = document[\"annotation\"][\"filename\"]\n",
    "    infos = list()\n",
    "    object_items = document[\"annotation\"][\"object\"]\n",
    "    if isinstance(object_items, list):\n",
    "        # The file contains more than one bounding-box object.\n",
    "        for object_item in object_items:\n",
    "            info = dict()\n",
    "            info[\"folder\"] = folder\n",
    "            info[\"filename\"] = filename\n",
    "            info = get_info_from_object_item(object_item, info)\n",
    "            infos.append(info)\n",
    "    else:\n",
    "        info = dict()\n",
    "        info[\"folder\"] = folder\n",
    "        info[\"filename\"] = filename\n",
    "        info = get_info_from_object_item(object_items, info)\n",
    "        infos.append(info)\n",
    "    return infos\n",
    "\n",
    "def get_info_from_xml_files(xml_file_paths):\n",
    "    \"\"\"Get the labelling information within each XML file.\"\"\"\n",
    "    info_from_xml_files = list()\n",
    "    for xml_file_path in xml_file_paths:\n",
    "        with open(xml_file_path) as fd:\n",
    "            document = xmltodict.parse(fd.read())\n",
    "            for info in parse_xml(document):\n",
    "                info_from_xml_files.append(info)\n",
    "    return info_from_xml_files\n",
    "\n",
    "XML_FILE_PATHS = xml_file_paths\n",
    "info_from_xml_files = get_info_from_xml_files(XML_FILE_PATHS)"
   ]
  },
  {
   "cell_type": "code",
   "execution_count": 59,
   "metadata": {},
   "outputs": [
    {
     "name": "stdout",
     "output_type": "stream",
     "text": [
      "The metadata.csv file was successfully generated.\n"
     ]
    }
   ],
   "source": [
    "def update_metadata(file_path, img_path, label, belonging_set):\n",
    "    \"\"\"Update the metadata.csv file with the given information.\"\"\"\n",
    "    columns = [\"img_path\", \"label\", \"set\"]\n",
    "    if not os.path.isfile(file_path):\n",
    "        with open(file_path, 'w') as metadata_csv:\n",
    "            metadata_writer = csv.DictWriter(metadata_csv, columns)\n",
    "            metadata_writer.writeheader()\n",
    "            row = {columns[0]: img_path, columns[1]: label, columns[2]: belonging_set}\n",
    "            metadata_writer.writerow(row)\n",
    "    else:\n",
    "        with open(file_path, 'a') as metadata_csv:\n",
    "            metadata_writer = csv.DictWriter(metadata_csv, columns)\n",
    "            row = {columns[0]: img_path, columns[1]: label, columns[2]: belonging_set}\n",
    "            metadata_writer.writerow(row)\n",
    "\n",
    "def belongs_to(train_threshold):\n",
    "    \"\"\"Decide to which of the three sets (train, valid, test) an element belongs.\"\"\"\n",
    "    train_threshold_percentage = train_threshold / 100\n",
    "    belonging_set = None\n",
    "    random_num = random.random()\n",
    "    if random_num <= train_threshold_percentage:\n",
    "        belonging_set = \"train\"\n",
    "    elif train_threshold_percentage < random_num <= train_threshold_percentage +  \\\n",
    "        (1 - train_threshold_percentage) / 2:\n",
    "        belonging_set = \"valid\"\n",
    "    else:\n",
    "        belonging_set = \"test\"\n",
    "    return belonging_set\n",
    "\n",
    "def get_unique_name(img_path):\n",
    "    \"\"\"Create a unique name for the image on the given path.\"\"\"\n",
    "    fn = lambda x: str(hash(x) % ((sys.maxsize + 1) * 2)) + \".JPG\"\n",
    "    return fn(img_path)\n",
    "\n",
    "def crop_img(img, info_from_xml_file):\n",
    "    \"\"\"Crop the image according to the coordinates in the info_from_xml_file.\"\"\"\n",
    "    x_min = info_from_xml_file[\"xmin\"]\n",
    "    y_min = info_from_xml_file[\"ymin\"]\n",
    "    x_max = info_from_xml_file[\"xmax\"]\n",
    "    y_max = info_from_xml_file[\"ymax\"]\n",
    "    return img[y_min:y_max, x_min:x_max, :]\n",
    "\n",
    "def create_metadata(images_path, info_from_xml_files, train_percentage, no_annotation_dir):\n",
    "    \"\"\"Create the metadata.csv file using the images and the information extracted as XML files.\"\"\"\n",
    "    cropped_img_directory = \"{}_cropped\".format(images_path)\n",
    "    images_path_as_list = images_path.split('/')\n",
    "    metadata_file_path = '/'.join(images_path_as_list[:len(images_path_as_list) - 1]) +  \\\n",
    "        \"/metadata.csv\"\n",
    "    if os.path.exists(cropped_img_directory):\n",
    "        shutil.rmtree(cropped_img_directory)\n",
    "    os.makedirs(cropped_img_directory)\n",
    "    if os.path.exists(metadata_file_path):\n",
    "        os.remove(metadata_file_path)\n",
    "    for info_from_xml_file in info_from_xml_files:\n",
    "        img_path_from_xml = \"{}/{}/{}\".format(images_path, info_from_xml_file[\"folder\"], \n",
    "                                              info_from_xml_file[\"filename\"])\n",
    "        current_img = cv2.imread(img_path_from_xml)\n",
    "        cropped_img = crop_img(current_img, info_from_xml_file)\n",
    "        cropped_img_name = get_unique_name(img_path_from_xml)\n",
    "        img_path_destination = \"{}/{}\".format(cropped_img_directory, cropped_img_name)\n",
    "        belonging_set = belongs_to(train_percentage)\n",
    "        cv2.imwrite(img_path_destination, cropped_img)\n",
    "        metadata_path = update_metadata(metadata_file_path, img_path_destination, \n",
    "                                        info_from_xml_file[\"label\"], belonging_set)\n",
    "    \n",
    "    # Add the data of the \"no_annotation_directory\" to the created metadata.csv file.\n",
    "    for subdir, dirs, files in os.walk(\"{}/{}\".format(images_path, no_annotation_dir)):\n",
    "        for file in files:\n",
    "            file_path = os.path.join(subdir, file)\n",
    "            if not file_path.endswith(\".DS_Store\"):\n",
    "                current_img = cv2.imread(file_path)\n",
    "                img_name = get_unique_name(file_path)\n",
    "                img_path_destination = \"{}/{}\".format(cropped_img_directory, img_name)\n",
    "                belonging_set = belongs_to(train_percentage)\n",
    "                cv2.imwrite(img_path_destination, current_img)\n",
    "                metadata_path = update_metadata(metadata_file_path, img_path_destination, '0', \n",
    "                                                belonging_set)\n",
    "    print(\"The metadata.csv file was successfully generated.\")\n",
    "    return metadata_path\n",
    "\n",
    "IMAGES_PATH = images_path\n",
    "INFO_FROM_XML_FILES = info_from_xml_files\n",
    "TRAIN_PERCENTAGE = 70\n",
    "NO_ANNOTATION_DIR = \"0 - No hay persona\"\n",
    "metadata_path = create_metadata(IMAGES_PATH, INFO_FROM_XML_FILES, TRAIN_PERCENTAGE, \n",
    "                                NO_ANNOTATION_DIR)"
   ]
  },
  {
   "cell_type": "code",
   "execution_count": 36,
   "metadata": {},
   "outputs": [],
   "source": []
  }
 ],
 "metadata": {
  "kernelspec": {
   "display_name": "Python 3",
   "language": "python",
   "name": "python3"
  },
  "language_info": {
   "codemirror_mode": {
    "name": "ipython",
    "version": 3
   },
   "file_extension": ".py",
   "mimetype": "text/x-python",
   "name": "python",
   "nbconvert_exporter": "python",
   "pygments_lexer": "ipython3",
   "version": "3.7.1"
  }
 },
 "nbformat": 4,
 "nbformat_minor": 1
}
