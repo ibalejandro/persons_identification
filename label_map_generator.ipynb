{
 "cells": [
  {
   "cell_type": "code",
   "execution_count": 1,
   "metadata": {},
   "outputs": [],
   "source": [
    "import json"
   ]
  },
  {
   "cell_type": "code",
   "execution_count": 4,
   "metadata": {},
   "outputs": [],
   "source": [
    "label_to_map = {0: \"No hay persona\", 1: \"Hay una mujer joven\", 2: \"Hay una mujer vieja\", \n",
    "                3: \"Hay un hombre joven\", 4: \"Hay un hombre viejo\"}\n",
    "with open(\"/Users/alejandrosanchezaristizabal/Desktop/label_map.json\", 'w') as label_map:\n",
    "    json.dump(obj=label_to_map, fp=label_map, indent=4)"
   ]
  },
  {
   "cell_type": "code",
   "execution_count": null,
   "metadata": {},
   "outputs": [],
   "source": [
    ""
   ]
  }
 ],
 "metadata": {
  "kernelspec": {
   "display_name": "Python 3",
   "language": "python",
   "name": "python3"
  },
  "language_info": {
   "codemirror_mode": {
    "name": "ipython",
    "version": 3.0
   },
   "file_extension": ".py",
   "mimetype": "text/x-python",
   "name": "python",
   "nbconvert_exporter": "python",
   "pygments_lexer": "ipython3",
   "version": "3.7.1"
  }
 },
 "nbformat": 4,
 "nbformat_minor": 0
}